{
 "cells": [
  {
   "cell_type": "code",
   "execution_count": 1,
   "metadata": {},
   "outputs": [
    {
     "name": "stdout",
     "output_type": "stream",
     "text": [
      "['__doc__', '__loader__', '__name__', '__package__', '__spec__', 'acos', 'acosh', 'asin', 'asinh', 'atan', 'atan2', 'atanh', 'ceil', 'comb', 'copysign', 'cos', 'cosh', 'degrees', 'dist', 'e', 'erf', 'erfc', 'exp', 'expm1', 'fabs', 'factorial', 'floor', 'fmod', 'frexp', 'fsum', 'gamma', 'gcd', 'hypot', 'inf', 'isclose', 'isfinite', 'isinf', 'isnan', 'isqrt', 'lcm', 'ldexp', 'lgamma', 'log', 'log10', 'log1p', 'log2', 'modf', 'nan', 'nextafter', 'perm', 'pi', 'pow', 'prod', 'radians', 'remainder', 'sin', 'sinh', 'sqrt', 'tan', 'tanh', 'tau', 'trunc', 'ulp']\n"
     ]
    }
   ],
   "source": [
    "#GENERATE RANDOM NUMBERS BETWEEN 45 AND 102, 70 IN TOTAL\n",
    "#MODIFY THOSE GENERATED NUMBERS BY FINDING THEIR [SINE,LOG,LOG10,COS]\n",
    "#FILTER THOSE NUMBERS BASED ON THE FOLLOWING CONDITIONS [ ≤ 56, ODD, EVEN, == 47]\n",
    "\n",
    "import math\n",
    "print(dir(math))"
   ]
  },
  {
   "cell_type": "code",
   "execution_count": 2,
   "metadata": {},
   "outputs": [
    {
     "name": "stdout",
     "output_type": "stream",
     "text": [
      "3.8066624897703196\n",
      "4.624972813284271\n",
      "4.248495242049359\n"
     ]
    }
   ],
   "source": [
    "num = 45\n",
    "num2 = 102\n",
    "num3 = 70\n",
    "print(math.log(num))\n",
    "print(math.log(num2))\n",
    "print(math.log(num3))"
   ]
  },
  {
   "cell_type": "code",
   "execution_count": 3,
   "metadata": {},
   "outputs": [
    {
     "name": "stdout",
     "output_type": "stream",
     "text": [
      "0.8509035245341184\n",
      "0.9948267913584063\n",
      "0.7738906815578891\n"
     ]
    }
   ],
   "source": [
    "num = 45\n",
    "num2 = 102\n",
    "num3 = 70\n",
    "print(math.sin(num))\n",
    "print(math.sin(num2))\n",
    "print(math.sin(num3))"
   ]
  },
  {
   "cell_type": "code",
   "execution_count": 4,
   "metadata": {},
   "outputs": [
    {
     "name": "stdout",
     "output_type": "stream",
     "text": [
      "1.6532125137753437\n",
      "2.0086001717619175\n",
      "1.845098040014257\n"
     ]
    }
   ],
   "source": [
    "num = 45\n",
    "num2 = 102\n",
    "num3 = 70\n",
    "print(math.log10(num))\n",
    "print(math.log10(num2))\n",
    "print(math.log10(num3))"
   ]
  },
  {
   "cell_type": "code",
   "execution_count": 5,
   "metadata": {},
   "outputs": [
    {
     "name": "stdout",
     "output_type": "stream",
     "text": [
      "0.5253219888177297\n",
      "0.10158570369662134\n",
      "0.6333192030862999\n"
     ]
    }
   ],
   "source": [
    "num = 45\n",
    "num2 = 102\n",
    "num3 = 70\n",
    "print(math.cos(num))\n",
    "print(math.cos(num2))\n",
    "print(math.cos(num3))"
   ]
  },
  {
   "cell_type": "code",
   "execution_count": null,
   "metadata": {},
   "outputs": [],
   "source": []
  }
 ],
 "metadata": {
  "kernelspec": {
   "display_name": "Python 3.10.4 64-bit",
   "language": "python",
   "name": "python3"
  },
  "language_info": {
   "codemirror_mode": {
    "name": "ipython",
    "version": 3
   },
   "file_extension": ".py",
   "mimetype": "text/x-python",
   "name": "python",
   "nbconvert_exporter": "python",
   "pygments_lexer": "ipython3",
   "version": "3.10.4"
  },
  "orig_nbformat": 4,
  "vscode": {
   "interpreter": {
    "hash": "ea7179c008e8f9fad3b9e2bf5245679350e4074392897451870707d6ac4f22a4"
   }
  }
 },
 "nbformat": 4,
 "nbformat_minor": 2
}
