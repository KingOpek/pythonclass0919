{
 "cells": [
  {
   "cell_type": "code",
   "execution_count": 1,
   "metadata": {},
   "outputs": [],
   "source": [
    "#create a class BMI with the following attribute [name, gender, country, continent, height, weight] having the following method \n",
    "#method to accept their records\n",
    "#method to display their records\n",
    "#method to charge the patient based on their continent \n",
    "#method to calculate their body mass index and prescribe a drug or diet for the patient"
   ]
  },
  {
   "cell_type": "code",
   "execution_count": 5,
   "metadata": {},
   "outputs": [
    {
     "ename": "SyntaxError",
     "evalue": "invalid syntax (3600552954.py, line 2)",
     "output_type": "error",
     "traceback": [
      "\u001b[1;36m  Cell \u001b[1;32mIn [5], line 2\u001b[1;36m\u001b[0m\n\u001b[1;33m    def__init__(self,name,gender, country, continent, height, weight):\u001b[0m\n\u001b[1;37m                                                                     ^\u001b[0m\n\u001b[1;31mSyntaxError\u001b[0m\u001b[1;31m:\u001b[0m invalid syntax\n"
     ]
    }
   ],
   "source": [
    "class BMI:\n",
    "    def__init__(self,name,gender, country, continent, height, weight):\n",
    "        self.name = name\n",
    "        self. gender = gender\n",
    "        self.country = country\n",
    "        self.continent = continent\n",
    "        self.height = height\n",
    "        self.weight = weight\n",
    "    def accept(self,NAME,GENDER,COUNTRY,CONTINENT,HEIGHT,WEIGHT):\n",
    "        ob= BMI(NAME,GENDER,COUNTRY,CONTINENT,HEIGHT,WEIGHT)\n",
    "        customers.append(ob)\n",
    "    def details(self,ob):\n",
    "        print(f'''NAME:{ob.name}\n",
    "GENDER:{ob.gender}\n",
    "CONTRTY:{ob.country}\n",
    "CONTINENT:{ob.continent}\n",
    "HEIGHT:{ob.height}\n",
    "WEIGHT:{ob.weight}\n",
    "''')\n",
    "    def price_charge(self):\n",
    "            continent = input('PLEASE PROVIDE YOUR CONTINENT ONCE AGAIN:')\n",
    "            if continet == 'Africa':\n",
    "                print('you will be charged a consultation fee of $50')\n",
    "            if continet == 'Asia':\n",
    "                  print('you will be charged a consultation fee of $70')\n",
    "            elif continet == 'South America':\n",
    "                print('you will be charged a consultation fee of $65')\n",
    "            elif continet == 'North America':\n",
    "                print('you will be charged a consultation fee of $65')\n",
    "            elif continet == 'Europe':\n",
    "                print('you will be charged a consultation fee of $150')\n",
    "            elif continet == 'Oceania':\n",
    "                print('you will be charged a consultation fee of $200')\n",
    "            else:\n",
    "                print:('YOU HAVE PROVIDED AN INVALID ACCOUNT')\n",
    "    def body_mass_index_checker(self):\n",
    "            height = float(input('PLEASE PROVIDE YOUR HEIGHT ONCE AGAIN'))\n",
    "            weight = float(input('PLEASE PROVIDE YOUR WEIGHT ONCE AGAIN:'))\n",
    "            bmi = (weight/(height**2))\n",
    "            if bmi < 18.5:\n",
    "                print('HEY YOU ARE UNDER WEIGHT PLEASE HELD ON TO THE NUTRITION SECTION FOR YOUR MEDICATION AND DIET ROUTINE')\n",
    "            elif bmi >= 18.5 and bmi <=29.9:\n",
    "                print('HEY YOU ARE HEALTHY PLEASE CONTINUE YOUR DIET ROUTINE')\n",
    "            elif bmi >= 25 and bmi <=29.9\n",
    "                print('HEY YOU ARE OVER WEIGHT PLEASE HOLD ON TO THE NUTRITION SECTION FOR YOUR MEDICATION AND DIET ROUTINE')\n",
    "            else:\n",
    "                print('HEY YOU ARE OBESE PLESE HOLD ON TO THE NUTRITION SECTION FOR YOUR MEDICATION AND DIET ROUTINE')\n",
    "customers = []\n",
    "obj = BMI('','','','',0,0)\n",
    " x = input('Enter y as yes to login and perform operations on the system and n as no to quit')\n",
    "n = 1\n",
    "while x = 'y':\n",
    "    operation = input('choose your operation[accept,details,price_charge,body_mass_index_checker]')\n",
    "    if operation == 'accept':\n",
    "        obj.accept(input('Client Name'),input('Client Gender'),input('Client Country'),input('Client Continent'),float(input('Client Height')),float(input('Client Weight')))\n",
    "    elif operation == 'details':\n",
    "        print()"
   ]
  },
  {
   "cell_type": "code",
   "execution_count": 3,
   "metadata": {},
   "outputs": [
    {
     "ename": "SyntaxError",
     "evalue": "invalid syntax (609850665.py, line 2)",
     "output_type": "error",
     "traceback": [
      "\u001b[1;36m  Cell \u001b[1;32mIn [3], line 2\u001b[1;36m\u001b[0m\n\u001b[1;33m    file = open('demo.pdf','w')file\u001b[0m\n\u001b[1;37m                               ^\u001b[0m\n\u001b[1;31mSyntaxError\u001b[0m\u001b[1;31m:\u001b[0m invalid syntax\n"
     ]
    }
   ],
   "source": [
    "#File Handling\n",
    "file = open('demo.pdf','w')file\n",
    "file.write('python is fun to learn\\npython is cool')\n",
    "file.close()"
   ]
  },
  {
   "cell_type": "code",
   "execution_count": 4,
   "metadata": {},
   "outputs": [
    {
     "ename": "FileNotFoundError",
     "evalue": "[Errno 2] No such file or directory: 'day1.py'",
     "output_type": "error",
     "traceback": [
      "\u001b[1;31m---------------------------------------------------------------------------\u001b[0m",
      "\u001b[1;31mFileNotFoundError\u001b[0m                         Traceback (most recent call last)",
      "Cell \u001b[1;32mIn [4], line 1\u001b[0m\n\u001b[1;32m----> 1\u001b[0m file \u001b[39m=\u001b[39m \u001b[39mopen\u001b[39;49m(\u001b[39m'\u001b[39;49m\u001b[39mday1.py\u001b[39;49m\u001b[39m'\u001b[39;49m,\u001b[39m'\u001b[39;49m\u001b[39mr\u001b[39;49m\u001b[39m'\u001b[39;49m)\n\u001b[0;32m      2\u001b[0m file\u001b[39m.\u001b[39mwrite(\u001b[39m'\u001b[39m\u001b[39mpython is fun to learn\u001b[39m\u001b[39m\\n\u001b[39;00m\u001b[39mpython is cool\u001b[39m\u001b[39m'\u001b[39m)\n\u001b[0;32m      3\u001b[0m file\u001b[39m.\u001b[39mclose()\n",
      "\u001b[1;31mFileNotFoundError\u001b[0m: [Errno 2] No such file or directory: 'day1.py'"
     ]
    }
   ],
   "source": [
    "file = open('day1.py','r')\n",
    "file.write('python is fun to learn\\npython is cool')\n",
    "file.close()"
   ]
  },
  {
   "cell_type": "code",
   "execution_count": 6,
   "metadata": {},
   "outputs": [],
   "source": [
    "file = open('demo.pdf','a')\n",
    "file.write('\\npython is fun to learn\\npython is cool')\n",
    "file.close()"
   ]
  },
  {
   "cell_type": "code",
   "execution_count": 7,
   "metadata": {},
   "outputs": [
    {
     "name": "stdout",
     "output_type": "stream",
     "text": [
      "\n",
      "python is fun to learn\n",
      "python is cool\n"
     ]
    }
   ],
   "source": [
    "file = open('demo.pdf','r+')\n",
    "print(file.read())\n",
    "file.write('\\npython is fun to learn\\npython is cool')\n",
    "file.close()"
   ]
  },
  {
   "cell_type": "code",
   "execution_count": null,
   "metadata": {},
   "outputs": [],
   "source": []
  }
 ],
 "metadata": {
  "kernelspec": {
   "display_name": "Python 3.10.4 64-bit",
   "language": "python",
   "name": "python3"
  },
  "language_info": {
   "codemirror_mode": {
    "name": "ipython",
    "version": 3
   },
   "file_extension": ".py",
   "mimetype": "text/x-python",
   "name": "python",
   "nbconvert_exporter": "python",
   "pygments_lexer": "ipython3",
   "version": "3.10.4"
  },
  "orig_nbformat": 4,
  "vscode": {
   "interpreter": {
    "hash": "ea7179c008e8f9fad3b9e2bf5245679350e4074392897451870707d6ac4f22a4"
   }
  }
 },
 "nbformat": 4,
 "nbformat_minor": 2
}
