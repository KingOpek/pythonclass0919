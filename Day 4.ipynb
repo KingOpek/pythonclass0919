{
 "cells": [
  {
   "cell_type": "code",
   "execution_count": 2,
   "metadata": {},
   "outputs": [
    {
     "name": "stdout",
     "output_type": "stream",
     "text": [
      "['__doc__', '__loader__', '__name__', '__package__', '__spec__', 'acos', 'acosh', 'asin', 'asinh', 'atan', 'atan2', 'atanh', 'ceil', 'comb', 'copysign', 'cos', 'cosh', 'degrees', 'dist', 'e', 'erf', 'erfc', 'exp', 'expm1', 'fabs', 'factorial', 'floor', 'fmod', 'frexp', 'fsum', 'gamma', 'gcd', 'hypot', 'inf', 'isclose', 'isfinite', 'isinf', 'isnan', 'isqrt', 'lcm', 'ldexp', 'lgamma', 'log', 'log10', 'log1p', 'log2', 'modf', 'nan', 'nextafter', 'perm', 'pi', 'pow', 'prod', 'radians', 'remainder', 'sin', 'sinh', 'sqrt', 'tan', 'tanh', 'tau', 'trunc', 'ulp']\n"
     ]
    }
   ],
   "source": [
    "import math\n",
    "print(dir(math))"
   ]
  },
  {
   "cell_type": "code",
   "execution_count": 3,
   "metadata": {},
   "outputs": [
    {
     "name": "stdout",
     "output_type": "stream",
     "text": [
      "15\n",
      "<built-in function floor>\n",
      "2.647592232065096\n",
      "3.757658845611187\n"
     ]
    }
   ],
   "source": [
    "num = 14.12\n",
    "print(math.ceil(num))\n",
    "print(math.floor)\n",
    "print(math.log(num))\n",
    "print(math.sqrt(num))"
   ]
  },
  {
   "cell_type": "code",
   "execution_count": 4,
   "metadata": {},
   "outputs": [
    {
     "name": "stdout",
     "output_type": "stream",
     "text": [
      "['Counter', 'Decimal', 'Fraction', 'NormalDist', 'StatisticsError', '__all__', '__builtins__', '__cached__', '__doc__', '__file__', '__loader__', '__name__', '__package__', '__spec__', '_coerce', '_convert', '_exact_ratio', '_fail_neg', '_find_lteq', '_find_rteq', '_isfinite', '_normal_dist_inv_cdf', '_ss', '_sum', 'bisect_left', 'bisect_right', 'erf', 'exp', 'fabs', 'fmean', 'fsum', 'geometric_mean', 'groupby', 'harmonic_mean', 'hypot', 'itemgetter', 'log', 'math', 'mean', 'median', 'median_grouped', 'median_high', 'median_low', 'mode', 'multimode', 'numbers', 'pstdev', 'pvariance', 'quantiles', 'random', 'sqrt', 'stdev', 'tau', 'variance']\n"
     ]
    }
   ],
   "source": [
    "import statistics as stat\n",
    "print(dir(stat))"
   ]
  },
  {
   "cell_type": "code",
   "execution_count": 5,
   "metadata": {},
   "outputs": [
    {
     "name": "stdout",
     "output_type": "stream",
     "text": [
      "62.35294117647059\n",
      "69\n",
      "[78, 45]\n"
     ]
    }
   ],
   "source": [
    "numbers = [78,45,69,69,32,14,56,87,96,95,45,78,45,78,50,45,78]\n",
    "print(stat.mean(numbers))\n",
    "print(stat.median(numbers))\n",
    "print(stat.multimode(numbers))"
   ]
  },
  {
   "cell_type": "code",
   "execution_count": 6,
   "metadata": {},
   "outputs": [
    {
     "name": "stdout",
     "output_type": "stream",
     "text": [
      "['BPF', 'LOG4', 'NV_MAGICCONST', 'RECIP_BPF', 'Random', 'SG_MAGICCONST', 'SystemRandom', 'TWOPI', '_Sequence', '_Set', '__all__', '__builtins__', '__cached__', '__doc__', '__file__', '__loader__', '__name__', '__package__', '__spec__', '_accumulate', '_acos', '_bisect', '_ceil', '_cos', '_e', '_exp', '_floor', '_inst', '_log', '_os', '_pi', '_random', '_repeat', '_sha512', '_sin', '_sqrt', '_test', '_test_generator', '_urandom', '_warn', 'betavariate', 'choice', 'choices', 'expovariate', 'gammavariate', 'gauss', 'getrandbits', 'getstate', 'lognormvariate', 'normalvariate', 'paretovariate', 'randbytes', 'randint', 'random', 'randrange', 'sample', 'seed', 'setstate', 'shuffle', 'triangular', 'uniform', 'vonmisesvariate', 'weibullvariate']\n"
     ]
    }
   ],
   "source": [
    "import random\n",
    "print(dir(random))"
   ]
  },
  {
   "cell_type": "code",
   "execution_count": 7,
   "metadata": {},
   "outputs": [
    {
     "name": "stdout",
     "output_type": "stream",
     "text": [
      "[78, 95, 45, 78, 56, 69, 45, 69, 96, 78, 32, 87, 78, 45, 50, 45, 14]\n"
     ]
    }
   ],
   "source": [
    "random.shuffle(numbers)\n",
    "print(numbers)"
   ]
  },
  {
   "cell_type": "code",
   "execution_count": 8,
   "metadata": {},
   "outputs": [
    {
     "data": {
      "text/plain": [
       "44"
      ]
     },
     "execution_count": 8,
     "metadata": {},
     "output_type": "execute_result"
    }
   ],
   "source": [
    "random.randint(10,45)"
   ]
  },
  {
   "cell_type": "code",
   "execution_count": 10,
   "metadata": {},
   "outputs": [
    {
     "name": "stdout",
     "output_type": "stream",
     "text": [
      "23 is a postive number\n"
     ]
    }
   ],
   "source": [
    "#CONDITIONAL STATEMENT\n",
    "#THEY ARE USED TO MAKE LOGICAL COMPUTATION\n",
    "#EVERY PROGRAM DOESNT HAS SAMESTYLE OF CONDITIONS\n",
    "#KNOW YOUR OBJECTIVES\n",
    "#write a program to display an output if the users number is positive numbers\n",
    "\n",
    "users_number = int(input('please provide a number:'))\n",
    "if users_number > 0:\n",
    "    print(f'{users_number} is a postive number')"
   ]
  },
  {
   "cell_type": "code",
   "execution_count": 11,
   "metadata": {},
   "outputs": [
    {
     "name": "stdout",
     "output_type": "stream",
     "text": [
      "15 is a postive number\n"
     ]
    }
   ],
   "source": [
    "users_number = int(input('please provide a number:'))\n",
    "if users_number > 0:\n",
    "    print(f'{users_number} is a postive number')\n",
    "else:\n",
    "    print(f'{users_numbers} is a negative number or zero')"
   ]
  },
  {
   "cell_type": "code",
   "execution_count": 12,
   "metadata": {},
   "outputs": [
    {
     "name": "stdout",
     "output_type": "stream",
     "text": [
      "speed on point\n"
     ]
    }
   ],
   "source": [
    "#A transport company has a default speed of 70 for every 5km write a program to check if the driver is maintaining the speed limit if not use this formula (driverspeed - defaultsp)\n",
    "default_speed = 70\n",
    "Dspeed = float(input('Drivers speed'))\n",
    "if Dspeed <= 70:\n",
    "    print('speed on point')\n",
    "else:\n",
    "    speedpoint = (Dspeed - default_speed)//5\n",
    "    if speedpoint<=12:\n",
    "        print(f'Bewared your are {speedpoint} point above our default speed for every 5km which is still acceptable')\n",
    "    else:\n",
    "        print(f'You are above the speed limit with a total point of {speedpoint},therefore you are suspended')"
   ]
  },
  {
   "cell_type": "code",
   "execution_count": 13,
   "metadata": {},
   "outputs": [
    {
     "name": "stdout",
     "output_type": "stream",
     "text": [
      "WELCOME TO POINT VIEW ARENA\n",
      "GF.SUPERMARKET\n",
      "1.GYM AND SPA\n",
      "2.OBOT COMPUTERS TRAINING CENTER\n",
      "3.SALOON AND BEAUTY CARE\n",
      "4.LOUNGE\n",
      "\n",
      "POM POM 2nd floor\n"
     ]
    }
   ],
   "source": [
    "#Lift code\n",
    "print('''WELCOME TO POINT VIEW ARENA\n",
    "GF.SUPERMARKET\n",
    "1.GYM AND SPA\n",
    "2.OBOT COMPUTERS TRAINING CENTER\n",
    "3.SALOON AND BEAUTY CARE\n",
    "4.LOUNGE\n",
    "''')\n",
    "button = input('Press the button to your desired floor:')\n",
    "if button == 'GF':\n",
    "    print('POM POM Ground floor')\n",
    "elif button == '1':\n",
    "    print('POM POM 1st floor')\n",
    "elif button == '2':\n",
    "    print('POM POM 2nd floor')\n",
    "elif button == '3':\n",
    "    print('POM POM 3rd floor')\n",
    "elif button == '4':\n",
    "    print('POM POM 4th floor')\n",
    "else:\n",
    "    print('Try again by pressing the right button')"
   ]
  },
  {
   "cell_type": "code",
   "execution_count": null,
   "metadata": {},
   "outputs": [],
   "source": []
  }
 ],
 "metadata": {
  "kernelspec": {
   "display_name": "Python 3.9.12 ('base')",
   "language": "python",
   "name": "python3"
  },
  "language_info": {
   "codemirror_mode": {
    "name": "ipython",
    "version": 3
   },
   "file_extension": ".py",
   "mimetype": "text/x-python",
   "name": "python",
   "nbconvert_exporter": "python",
   "pygments_lexer": "ipython3",
   "version": "3.9.12"
  },
  "orig_nbformat": 4,
  "vscode": {
   "interpreter": {
    "hash": "8f7e952bfb3c3f066a43c957a96d091bce3c7f364272d0286841978201cc119c"
   }
  }
 },
 "nbformat": 4,
 "nbformat_minor": 2
}
