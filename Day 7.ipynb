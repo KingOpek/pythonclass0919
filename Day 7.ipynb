{
 "cells": [
  {
   "cell_type": "code",
   "execution_count": 1,
   "metadata": {},
   "outputs": [
    {
     "data": {
      "text/plain": [
       "248063644451341145494649182395412689744530581492654164321720600128173828125"
      ]
     },
     "execution_count": 1,
     "metadata": {},
     "output_type": "execute_result"
    }
   ],
   "source": [
    "#lambda function are function that are reusedable\n",
    "(lambda x: x**x)(45)"
   ]
  },
  {
   "cell_type": "code",
   "execution_count": 2,
   "metadata": {},
   "outputs": [
    {
     "data": {
      "text/plain": [
       "'Pelumi starts with an uppercase letter'"
      ]
     },
     "execution_count": 2,
     "metadata": {},
     "output_type": "execute_result"
    }
   ],
   "source": [
    "(lambda name:f'{name} starts with an uppercase letter' if name [0]==name[0].upper() else f'{name} does not start with an uppercase letter')(input('Please provide your name'))"
   ]
  },
  {
   "cell_type": "code",
   "execution_count": 3,
   "metadata": {},
   "outputs": [
    {
     "data": {
      "text/plain": [
       "'pelumi does not start with an uppercase or ends with a digit'"
      ]
     },
     "execution_count": 3,
     "metadata": {},
     "output_type": "execute_result"
    }
   ],
   "source": [
    "#Exercise1\n",
    "# Write a lambda function to check if a given user password starts with an uppercase and ends with a digit.\n",
    "(lambda password:f'{password} starts with an uppercase and ends with a digit' if (password [0]==password[0].upper()) and (password[-1]=='1' or password[-1]=='2' or password[-1]=='3' or password[-1]=='4' or password[-1]=='5' ) else f'{password} does not start with an uppercase or ends with a digit')(input('Please provide your name'))"
   ]
  },
  {
   "cell_type": "code",
   "execution_count": 4,
   "metadata": {},
   "outputs": [
    {
     "data": {
      "text/plain": [
       "'67 is an odd number'"
      ]
     },
     "execution_count": 4,
     "metadata": {},
     "output_type": "execute_result"
    }
   ],
   "source": [
    "#Exercise 2\n",
    "#Write a lambda function to check if a given number is an odd number or an even number\n",
    "(lambda number:f'{number} is an even number' if number % 2 == 0 else f'{number} is an odd number')(int(input('please provide a number')))"
   ]
  },
  {
   "cell_type": "code",
   "execution_count": 5,
   "metadata": {},
   "outputs": [
    {
     "name": "stdout",
     "output_type": "stream",
     "text": [
      "[1.0, 1.4142135623730951, 1.7320508075688772, 2.0, 2.23606797749979, 2.449489742783178, 2.6457513110645907, 2.8284271247461903, 3.0, 3.1622776601683795, 3.3166247903554, 3.4641016151377544, 3.605551275463989, 3.7416573867739413, 3.872983346207417, 4.0, 4.123105625617661, 4.242640687119285, 4.358898943540674, 4.47213595499958]\n"
     ]
    }
   ],
   "source": [
    "#Map is used for the modification of sequence like(string,tuple,list and range)\n",
    "#Filter is used for the selection or filtering of sequence like(string,tuple,list and range)\n",
    "import math\n",
    "output = list(map(lambda x:math.sqrt(x),range(1,21)))\n",
    "print(output)"
   ]
  },
  {
   "cell_type": "code",
   "execution_count": 6,
   "metadata": {},
   "outputs": [
    {
     "name": "stdout",
     "output_type": "stream",
     "text": [
      "['BINGO', 'ROCKY', 'WATTY', 'PONKY', 'BATTY']\n"
     ]
    }
   ],
   "source": [
    "list_dogs = ['bingo','rocky','watty','ponky','batty']\n",
    "list_dogs = list(map(lambda x: x.upper(),list_dogs))\n",
    "print(list_dogs)"
   ]
  },
  {
   "cell_type": "code",
   "execution_count": 7,
   "metadata": {},
   "outputs": [
    {
     "name": "stdout",
     "output_type": "stream",
     "text": [
      "['bingo', 'rocky', 'watty', 'ponky', 'batty']\n"
     ]
    }
   ],
   "source": [
    "list_dogs = ['BINGO','ROCKY','WATTY','PONKY','BATTY']\n",
    "list_dogs = list(map(lambda x: x.lower(),list_dogs))\n",
    "print(list_dogs)"
   ]
  },
  {
   "cell_type": "code",
   "execution_count": 8,
   "metadata": {},
   "outputs": [
    {
     "name": "stdout",
     "output_type": "stream",
     "text": [
      "[1, 2, 3, 4, 5, 6, 7, 8, 9, 10]\n"
     ]
    }
   ],
   "source": [
    "output = list(filter(lambda x:x <=10,range(1,21)))\n",
    "print(output)"
   ]
  },
  {
   "cell_type": "code",
   "execution_count": 11,
   "metadata": {},
   "outputs": [
    {
     "name": "stdout",
     "output_type": "stream",
     "text": [
      "[]\n"
     ]
    }
   ],
   "source": [
    "list_dogs=list(filter(lambda x: x.startswith('B'),list_dogs))\n",
    "print (list_dogs)"
   ]
  },
  {
   "cell_type": "code",
   "execution_count": null,
   "metadata": {},
   "outputs": [],
   "source": []
  }
 ],
 "metadata": {
  "kernelspec": {
   "display_name": "Python 3.10.4 64-bit",
   "language": "python",
   "name": "python3"
  },
  "language_info": {
   "codemirror_mode": {
    "name": "ipython",
    "version": 3
   },
   "file_extension": ".py",
   "mimetype": "text/x-python",
   "name": "python",
   "nbconvert_exporter": "python",
   "pygments_lexer": "ipython3",
   "version": "3.10.4"
  },
  "orig_nbformat": 4,
  "vscode": {
   "interpreter": {
    "hash": "ea7179c008e8f9fad3b9e2bf5245679350e4074392897451870707d6ac4f22a4"
   }
  }
 },
 "nbformat": 4,
 "nbformat_minor": 2
}
