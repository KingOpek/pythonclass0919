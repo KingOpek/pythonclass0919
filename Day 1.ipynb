{
 "cells": [
  {
   "cell_type": "code",
   "execution_count": 1,
   "metadata": {},
   "outputs": [
    {
     "name": "stdout",
     "output_type": "stream",
     "text": [
      "24\n",
      "19.8\n",
      "Omowaye Pelumi\n",
      "False\n",
      "we're brothers from the other side of town\n",
      "python is fun\n",
      "python is easy to learn\n",
      "python has an interactive environment\n",
      " python is fun\n",
      "python is easy to learn\n",
      "python has an interactive environmemt\n",
      "\n",
      "hello world\n",
      "welcome to earlycode Omowaye Pelumi\n",
      "Ade is 26 years old, ojo is 30 years old and paul is 20 years old \n",
      "Ade is 26 years old, Ojo is 30 years old and paul is 20 years old\n",
      "PYTHON\n",
      "python\n",
      "Python Is Fun\n",
      "Python is fun\n",
      "['python', 'is', 'fun']\n",
      "strip will clear off anyspace is front and back of a string\n"
     ]
    }
   ],
   "source": [
    "num = 24 #Num as a variable storing an integar value of 24\n",
    "num2 = 19.8#Num2 as a variable storing a floating value of 19.8\n",
    "studentname = 'Omowaye Pelumi'#studentname as a variable storing a sting value\n",
    "X =False # X as a variable storing a boolean value\n",
    "\n",
    "print(num)\n",
    "print(num2)\n",
    "print(studentname)\n",
    "print(X)\n",
    "word ='we\\'re brothers from the other side of town'\n",
    "print(word)\n",
    "word2 = 'python is fun\\npython is easy to learn\\npython has an interactive environment'\n",
    "print(word2)\n",
    "\n",
    "word3 = ''' python is fun\n",
    "python is easy to learn\n",
    "python has an interactive environmemt\n",
    "'''\n",
    "print(word3)\n",
    "\n",
    "print('hello' + ' '+ 'world')\n",
    "print('welcome to earlycode', studentname)\n",
    "\n",
    "age1 = 26\n",
    "age2 = 30\n",
    "age3 = 20\n",
    "report = 'Ade is {} years old, ojo is {} years old and paul is {} years old '\n",
    "print(report.format(age1,age2,age3))\n",
    "print(f'Ade is {age1} years old, Ojo is {age2} years old and paul is {age3} years old')\n",
    "\n",
    "\n",
    "word1 = 'python'\n",
    "word2 = 'PYTHON'\n",
    "word3 = 'python is fun'\n",
    "word4 = '  strip will clear off anyspace is front and back of a string'\n",
    "print(word1. upper())\n",
    "print(word2. lower())\n",
    "print (word3.title())\n",
    "print(word3. capitalize())\n",
    "print(word3.split())\n",
    "print(word4.strip())\n"
   ]
  },
  {
   "cell_type": "code",
   "execution_count": null,
   "metadata": {},
   "outputs": [],
   "source": []
  }
 ],
 "metadata": {
  "kernelspec": {
   "display_name": "Python 3.10.4 64-bit",
   "language": "python",
   "name": "python3"
  },
  "language_info": {
   "codemirror_mode": {
    "name": "ipython",
    "version": 3
   },
   "file_extension": ".py",
   "mimetype": "text/x-python",
   "name": "python",
   "nbconvert_exporter": "python",
   "pygments_lexer": "ipython3",
   "version": "3.10.4"
  },
  "orig_nbformat": 4,
  "vscode": {
   "interpreter": {
    "hash": "ea7179c008e8f9fad3b9e2bf5245679350e4074392897451870707d6ac4f22a4"
   }
  }
 },
 "nbformat": 4,
 "nbformat_minor": 2
}
