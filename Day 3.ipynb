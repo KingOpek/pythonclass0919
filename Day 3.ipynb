{
 "cells": [
  {
   "cell_type": "code",
   "execution_count": 1,
   "metadata": {},
   "outputs": [],
   "source": [
    "# TUPLE\n",
    "# TUBLE MUST BE ORDERED\n",
    "# TUBLE IS DONATED WITH ()\n",
    "# SINCE WE HAVE A TUPLE HOLDING MULTIPLE VALUES TO ACCESS AN INDIVIDUAL VALUE WE USE THE INDEX LOCATION (0,-1)"
   ]
  },
  {
   "cell_type": "code",
   "execution_count": 2,
   "metadata": {},
   "outputs": [
    {
     "name": "stdout",
     "output_type": "stream",
     "text": [
      "<class 'tuple'>\n"
     ]
    }
   ],
   "source": [
    "numbers = (7,8,10,5,11,7,14,15,18,7,19,20,25,36,7,85,4)\n",
    "print(type(numbers))"
   ]
  },
  {
   "cell_type": "code",
   "execution_count": 3,
   "metadata": {},
   "outputs": [
    {
     "name": "stdout",
     "output_type": "stream",
     "text": [
      "18\n"
     ]
    }
   ],
   "source": [
    "print(numbers[8])"
   ]
  },
  {
   "cell_type": "code",
   "execution_count": 4,
   "metadata": {},
   "outputs": [
    {
     "name": "stdout",
     "output_type": "stream",
     "text": [
      "18\n"
     ]
    }
   ],
   "source": [
    "print(numbers[-9])"
   ]
  },
  {
   "cell_type": "code",
   "execution_count": 5,
   "metadata": {},
   "outputs": [
    {
     "name": "stdout",
     "output_type": "stream",
     "text": [
      "(11, 7, 14, 15, 18, 7, 19)\n"
     ]
    }
   ],
   "source": [
    "print(numbers[4:11])"
   ]
  },
  {
   "cell_type": "code",
   "execution_count": 6,
   "metadata": {},
   "outputs": [
    {
     "name": "stdout",
     "output_type": "stream",
     "text": [
      "4\n"
     ]
    }
   ],
   "source": [
    "print(numbers.count(7))"
   ]
  },
  {
   "cell_type": "code",
   "execution_count": 7,
   "metadata": {},
   "outputs": [
    {
     "name": "stdout",
     "output_type": "stream",
     "text": [
      "15\n"
     ]
    }
   ],
   "source": [
    "print(numbers.index(85))"
   ]
  },
  {
   "cell_type": "code",
   "execution_count": 8,
   "metadata": {},
   "outputs": [
    {
     "name": "stdout",
     "output_type": "stream",
     "text": [
      "False\n"
     ]
    }
   ],
   "source": [
    "print(100 in numbers)"
   ]
  },
  {
   "cell_type": "code",
   "execution_count": 9,
   "metadata": {},
   "outputs": [],
   "source": [
    "#LIST\n",
    "#LIST IS CHANGEABLE\n",
    "#LIST CAN BE ORDERED OR UNORDERED\n",
    "#LIST IS DENOTED WITH []\n",
    "#SINCE WE HAVE A LIST HOLDING MULTIPLE VALUES TO ACCESS AN INDIVIDUAL VALUE WE USE THE INDEX "
   ]
  },
  {
   "cell_type": "code",
   "execution_count": 10,
   "metadata": {},
   "outputs": [],
   "source": [
    "items =['Cup','Plate','Apple','Spoon','Lemon']"
   ]
  },
  {
   "cell_type": "code",
   "execution_count": 11,
   "metadata": {},
   "outputs": [
    {
     "name": "stdout",
     "output_type": "stream",
     "text": [
      "['Cup', 'Plate', 'Apple', 'Spoon', 'Lemon', 'cherry']\n"
     ]
    }
   ],
   "source": [
    "items.append('cherry')#Append will add the new value at the end of then list\n",
    "print(items)"
   ]
  },
  {
   "cell_type": "code",
   "execution_count": 12,
   "metadata": {},
   "outputs": [
    {
     "name": "stdout",
     "output_type": "stream",
     "text": [
      "['Cup', 'Plate', 'Apple', 'Spoon', 'Lemon', 'cherry', 'Banana', 'cup', 'strawberry', 'parker', 'bag']\n"
     ]
    }
   ],
   "source": [
    "store = ['Banana','cup','strawberry','parker','bag']\n",
    "items.extend(store)#Extend will add the values from another list to our current list\n",
    "print(items)"
   ]
  },
  {
   "cell_type": "code",
   "execution_count": 13,
   "metadata": {},
   "outputs": [
    {
     "name": "stdout",
     "output_type": "stream",
     "text": [
      "['Cup', 'Plate', 'Apple', 'Spoon', 'Lemon', 'Broom', 'cherry', 'Banana', 'cup', 'strawberry', 'parker', 'bag']\n"
     ]
    }
   ],
   "source": [
    "items.insert(5,'Broom')\n",
    "print(items)"
   ]
  },
  {
   "cell_type": "code",
   "execution_count": 14,
   "metadata": {},
   "outputs": [
    {
     "name": "stdout",
     "output_type": "stream",
     "text": [
      "['Cup', 'Plate', 'Apple', 'Spoon', 'Lemon', 'Broom', 'Broom', 'cherry', 'Banana', 'cup', 'strawberry', 'parker', 'bag']\n"
     ]
    }
   ],
   "source": [
    "items.insert(5,'Broom')#insert will the add the new value at the specified index location\n",
    "print(items)"
   ]
  },
  {
   "cell_type": "code",
   "execution_count": 15,
   "metadata": {},
   "outputs": [
    {
     "name": "stdout",
     "output_type": "stream",
     "text": [
      "['Apple', 'Banana', 'Broom', 'Broom', 'Cup', 'Lemon', 'Plate', 'Spoon', 'bag', 'cherry', 'cup', 'parker', 'strawberry']\n"
     ]
    }
   ],
   "source": [
    "items.sort()#sort will arrange your values in acsending order\n",
    "print(items)"
   ]
  },
  {
   "cell_type": "code",
   "execution_count": 16,
   "metadata": {},
   "outputs": [
    {
     "name": "stdout",
     "output_type": "stream",
     "text": [
      "['Apple', 'Banana', 'Broom', 'Broom', 'Cup', 'Lemon', 'Plate', 'Spoon', 'bag', 'cherry', 'cup', 'parker']\n"
     ]
    }
   ],
   "source": [
    "items.pop()#pop will remove the value at the end of the list\n",
    "print(items)"
   ]
  },
  {
   "cell_type": "code",
   "execution_count": 17,
   "metadata": {},
   "outputs": [
    {
     "name": "stdout",
     "output_type": "stream",
     "text": [
      "['Apple', 'Banana', 'Broom', 'Broom', 'Cup', 'Plate', 'Spoon', 'bag', 'cherry', 'cup', 'parker']\n"
     ]
    }
   ],
   "source": [
    "items.pop(5)\n",
    "print(items)"
   ]
  },
  {
   "cell_type": "code",
   "execution_count": 18,
   "metadata": {},
   "outputs": [
    {
     "name": "stdout",
     "output_type": "stream",
     "text": [
      "['Apple', 'Banana', 'Broom', 'Cup', 'Plate', 'Spoon', 'bag', 'cherry', 'cup', 'parker']\n"
     ]
    }
   ],
   "source": [
    "items.remove('Broom')#remove will drop the specified value\n",
    "print(items)"
   ]
  },
  {
   "cell_type": "code",
   "execution_count": 19,
   "metadata": {},
   "outputs": [
    {
     "name": "stdout",
     "output_type": "stream",
     "text": [
      "['parker', 'cup', 'cherry', 'bag', 'Spoon', 'Plate', 'Cup', 'Broom', 'Banana', 'Apple']\n"
     ]
    }
   ],
   "source": [
    "items.reverse()\n",
    "print(items)"
   ]
  },
  {
   "cell_type": "code",
   "execution_count": null,
   "metadata": {},
   "outputs": [],
   "source": []
  }
 ],
 "metadata": {
  "kernelspec": {
   "display_name": "Python 3.10.4 64-bit",
   "language": "python",
   "name": "python3"
  },
  "language_info": {
   "codemirror_mode": {
    "name": "ipython",
    "version": 3
   },
   "file_extension": ".py",
   "mimetype": "text/x-python",
   "name": "python",
   "nbconvert_exporter": "python",
   "pygments_lexer": "ipython3",
   "version": "3.10.4"
  },
  "orig_nbformat": 4,
  "vscode": {
   "interpreter": {
    "hash": "ea7179c008e8f9fad3b9e2bf5245679350e4074392897451870707d6ac4f22a4"
   }
  }
 },
 "nbformat": 4,
 "nbformat_minor": 2
}
