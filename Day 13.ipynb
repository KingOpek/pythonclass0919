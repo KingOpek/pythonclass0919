{
 "cells": [
  {
   "cell_type": "code",
   "execution_count": 11,
   "metadata": {},
   "outputs": [],
   "source": [
    "import pymysql"
   ]
  },
  {
   "cell_type": "code",
   "execution_count": 13,
   "metadata": {},
   "outputs": [],
   "source": [
    "mydb = pymysql.connect(\n",
    "    host = 'localhost',\n",
    "    user = 'root',\n",
    "    password = 'emmylee95',\n",
    "    database = 'accesswayprimebank'\n",
    ")\n",
    "mycursor =mydb.cursor()"
   ]
  },
  {
   "cell_type": "code",
   "execution_count": 14,
   "metadata": {},
   "outputs": [
    {
     "name": "stdout",
     "output_type": "stream",
     "text": [
      "('staffid', 'int', 'NO', 'PRI', None, 'auto_increment')\n",
      "('staffname', 'varchar(255)', 'NO', '', None, '')\n",
      "('staffgender', 'varchar(10)', 'NO', '', None, '')\n",
      "('staffdesignation', 'varchar(50)', 'NO', '', None, '')\n",
      "('staffqualification', 'varchar(80)', 'NO', '', None, '')\n"
     ]
    }
   ],
   "source": [
    "mycursor.execute('alter table mainstaffdetails add column staffqualification varchar(80) not null')\n",
    "mycursor.execute('show columns from mainstaffdetails')\n",
    "for x in mycursor:\n",
    "    print(x)"
   ]
  },
  {
   "cell_type": "code",
   "execution_count": 16,
   "metadata": {},
   "outputs": [
    {
     "name": "stdout",
     "output_type": "stream",
     "text": [
      "('staffid', 'int', 'NO', 'PRI', None, 'auto_increment')\n",
      "('staffname', 'varchar(255)', 'NO', '', None, '')\n",
      "('staffgender', 'varchar(10)', 'NO', '', None, '')\n",
      "('staffcontact', 'varchar(80)', 'NO', '', None, '')\n",
      "('staffdesignation', 'varchar(50)', 'NO', '', None, '')\n",
      "('staffqualification', 'varchar(80)', 'NO', '', None, '')\n"
     ]
    }
   ],
   "source": [
    "mycursor.execute('alter table mainstaffdetails add column staffcontact varchar(80) not null after staffgender')\n",
    "mycursor.execute('show columns from mainstaffdetails')\n",
    "for x in mycursor:\n",
    "    print(x)"
   ]
  },
  {
   "cell_type": "code",
   "execution_count": null,
   "metadata": {},
   "outputs": [],
   "source": []
  },
  {
   "cell_type": "code",
   "execution_count": 8,
   "metadata": {},
   "outputs": [
    {
     "name": "stderr",
     "output_type": "stream",
     "text": [
      "<>:3: SyntaxWarning: 'tuple' object is not callable; perhaps you missed a comma?\n",
      "<>:3: SyntaxWarning: 'tuple' object is not callable; perhaps you missed a comma?\n",
      "C:\\Users\\KING PELUMI\\AppData\\Local\\Temp\\ipykernel_10228\\2794999975.py:3: SyntaxWarning: 'tuple' object is not callable; perhaps you missed a comma?\n",
      "  (2, 'OKORO LUCY','FEMALE','09125656568','REGIONAL MANAGER','MBA')\n",
      "C:\\Users\\KING PELUMI\\AppData\\Local\\Temp\\ipykernel_10228\\2794999975.py:3: SyntaxWarning: 'tuple' object is not callable; perhaps you missed a comma?\n",
      "  (2, 'OKORO LUCY','FEMALE','09125656568','REGIONAL MANAGER','MBA')\n",
      "C:\\Users\\KING PELUMI\\AppData\\Local\\Temp\\ipykernel_10228\\2794999975.py:3: SyntaxWarning: 'tuple' object is not callable; perhaps you missed a comma?\n",
      "  (2, 'OKORO LUCY','FEMALE','09125656568','REGIONAL MANAGER','MBA')\n",
      "C:\\Users\\KING PELUMI\\AppData\\Local\\Temp\\ipykernel_10228\\2794999975.py:3: SyntaxWarning: 'tuple' object is not callable; perhaps you missed a comma?\n",
      "  (2, 'OKORO LUCY','FEMALE','09125656568','REGIONAL MANAGER','MBA')\n"
     ]
    },
    {
     "ename": "TypeError",
     "evalue": "'tuple' object is not callable",
     "output_type": "error",
     "traceback": [
      "\u001b[1;31m---------------------------------------------------------------------------\u001b[0m",
      "\u001b[1;31mTypeError\u001b[0m                                 Traceback (most recent call last)",
      "\u001b[1;32mc:\\Users\\KING PELUMI\\Documents\\Pelumi Code Files\\Day 13.ipynb Cell 7\u001b[0m in \u001b[0;36m<cell line: 2>\u001b[1;34m()\u001b[0m\n\u001b[0;32m      <a href='vscode-notebook-cell:/c%3A/Users/KING%20PELUMI/Documents/Pelumi%20Code%20Files/Day%2013.ipynb#X12sZmlsZQ%3D%3D?line=0'>1</a>\u001b[0m sql \u001b[39m=\u001b[39m \u001b[39m'\u001b[39m\u001b[39minsert into permanentstaffdetails(staffid,staffname,staffgender,staffphoenumber,staffdesignation,staffqualification) values (\u001b[39m\u001b[39m%s\u001b[39;00m\u001b[39m,\u001b[39m\u001b[39m%s\u001b[39;00m\u001b[39m,\u001b[39m\u001b[39m%s\u001b[39;00m\u001b[39m,\u001b[39m\u001b[39m%s\u001b[39;00m\u001b[39m,\u001b[39m\u001b[39m%s\u001b[39;00m\u001b[39m,\u001b[39m\u001b[39m%s\u001b[39;00m\u001b[39m)\u001b[39m\u001b[39m'\u001b[39m\n\u001b[0;32m      <a href='vscode-notebook-cell:/c%3A/Users/KING%20PELUMI/Documents/Pelumi%20Code%20Files/Day%2013.ipynb#X12sZmlsZQ%3D%3D?line=1'>2</a>\u001b[0m val \u001b[39m=\u001b[39m [(\u001b[39m1\u001b[39m,\u001b[39m'\u001b[39m\u001b[39mOBED AKPAN\u001b[39m\u001b[39m'\u001b[39m,\u001b[39m'\u001b[39m\u001b[39mMALE\u001b[39m\u001b[39m'\u001b[39m,\u001b[39m'\u001b[39m\u001b[39m08125659878\u001b[39m\u001b[39m'\u001b[39m,\u001b[39m'\u001b[39m\u001b[39mSENIOR MARKETING\u001b[39m\u001b[39m'\u001b[39m,\u001b[39m'\u001b[39m\u001b[39mDOCTORATE DEGREE\u001b[39m\u001b[39m'\u001b[39m),\n\u001b[1;32m----> <a href='vscode-notebook-cell:/c%3A/Users/KING%20PELUMI/Documents/Pelumi%20Code%20Files/Day%2013.ipynb#X12sZmlsZQ%3D%3D?line=2'>3</a>\u001b[0m        (\u001b[39m2\u001b[39;49m, \u001b[39m'\u001b[39;49m\u001b[39mOKORO LUCY\u001b[39;49m\u001b[39m'\u001b[39;49m,\u001b[39m'\u001b[39;49m\u001b[39mFEMALE\u001b[39;49m\u001b[39m'\u001b[39;49m,\u001b[39m'\u001b[39;49m\u001b[39m09125656568\u001b[39;49m\u001b[39m'\u001b[39;49m,\u001b[39m'\u001b[39;49m\u001b[39mREGIONAL MANAGER\u001b[39;49m\u001b[39m'\u001b[39;49m,\u001b[39m'\u001b[39;49m\u001b[39mMBA\u001b[39;49m\u001b[39m'\u001b[39;49m)\n\u001b[0;32m      <a href='vscode-notebook-cell:/c%3A/Users/KING%20PELUMI/Documents/Pelumi%20Code%20Files/Day%2013.ipynb#X12sZmlsZQ%3D%3D?line=3'>4</a>\u001b[0m        (\u001b[39m3\u001b[39;49m,\u001b[39m'\u001b[39;49m\u001b[39mJANET AKINLABI\u001b[39;49m\u001b[39m'\u001b[39;49m,\u001b[39m'\u001b[39;49m\u001b[39mFEMALE\u001b[39;49m\u001b[39m'\u001b[39;49m,\u001b[39m'\u001b[39;49m\u001b[39m09085645454\u001b[39;49m\u001b[39m'\u001b[39;49m,\u001b[39m'\u001b[39;49m\u001b[39mBRANCH MANAGER\u001b[39;49m\u001b[39m'\u001b[39;49m,\u001b[39m'\u001b[39;49m\u001b[39mMASTERS\u001b[39;49m\u001b[39m'\u001b[39;49m)\n\u001b[0;32m      <a href='vscode-notebook-cell:/c%3A/Users/KING%20PELUMI/Documents/Pelumi%20Code%20Files/Day%2013.ipynb#X12sZmlsZQ%3D%3D?line=4'>5</a>\u001b[0m        (\u001b[39m4\u001b[39m,\u001b[39m'\u001b[39m\u001b[39mPAUL LAWAL\u001b[39m\u001b[39m'\u001b[39m,\u001b[39m'\u001b[39m\u001b[39mMALE\u001b[39m\u001b[39m'\u001b[39m,\u001b[39m'\u001b[39m\u001b[39m08054585859\u001b[39m\u001b[39m'\u001b[39m,\u001b[39m'\u001b[39m\u001b[39mHEAD OF MARKETING\u001b[39m\u001b[39m'\u001b[39m,\u001b[39m'\u001b[39m\u001b[39mDOCTORATE DEGREE\u001b[39m\u001b[39m'\u001b[39m),\n\u001b[0;32m      <a href='vscode-notebook-cell:/c%3A/Users/KING%20PELUMI/Documents/Pelumi%20Code%20Files/Day%2013.ipynb#X12sZmlsZQ%3D%3D?line=5'>6</a>\u001b[0m        (\u001b[39m5\u001b[39m,\u001b[39m'\u001b[39m\u001b[39mSUSAN PWAJOX\u001b[39m\u001b[39m'\u001b[39m,\u001b[39m'\u001b[39m\u001b[39mFEMALE\u001b[39m\u001b[39m'\u001b[39m,\u001b[39m'\u001b[39m\u001b[39m091477477879\u001b[39m\u001b[39m'\u001b[39m,\u001b[39m'\u001b[39m\u001b[39mSENIOR MARKETING OFFICER2\u001b[39m\u001b[39m'\u001b[39m,\u001b[39m'\u001b[39m\u001b[39mMASTERS\u001b[39m\u001b[39m'\u001b[39m),\n\u001b[0;32m      <a href='vscode-notebook-cell:/c%3A/Users/KING%20PELUMI/Documents/Pelumi%20Code%20Files/Day%2013.ipynb#X12sZmlsZQ%3D%3D?line=6'>7</a>\u001b[0m        (\u001b[39m6\u001b[39m,\u001b[39m'\u001b[39m\u001b[39mSAMUEL OKOLO\u001b[39m\u001b[39m'\u001b[39m,\u001b[39m'\u001b[39m\u001b[39mMALE\u001b[39m\u001b[39m'\u001b[39m,\u001b[39m'\u001b[39m\u001b[39m08120232020\u001b[39m\u001b[39m'\u001b[39m,\u001b[39m'\u001b[39m\u001b[39mHEAD OF ICT\u001b[39m\u001b[39m'\u001b[39m,\u001b[39m'\u001b[39m\u001b[39mPHD\u001b[39m\u001b[39m'\u001b[39m),\n\u001b[0;32m      <a href='vscode-notebook-cell:/c%3A/Users/KING%20PELUMI/Documents/Pelumi%20Code%20Files/Day%2013.ipynb#X12sZmlsZQ%3D%3D?line=7'>8</a>\u001b[0m        (\u001b[39m7\u001b[39m,\u001b[39m'\u001b[39m\u001b[39mMARY KWAWA\u001b[39m\u001b[39m'\u001b[39m,\u001b[39m'\u001b[39m\u001b[39mFEMALE\u001b[39m\u001b[39m'\u001b[39m,\u001b[39m'\u001b[39m\u001b[39m08159990307\u001b[39m\u001b[39m'\u001b[39m,\u001b[39m'\u001b[39m\u001b[39mCUSTOMER REPRESENTATIVE 1\u001b[39m\u001b[39m'\u001b[39m,\u001b[39m'\u001b[39m\u001b[39mBSC\u001b[39m\u001b[39m'\u001b[39m)]\n\u001b[0;32m      <a href='vscode-notebook-cell:/c%3A/Users/KING%20PELUMI/Documents/Pelumi%20Code%20Files/Day%2013.ipynb#X12sZmlsZQ%3D%3D?line=8'>9</a>\u001b[0m mycursor\u001b[39m.\u001b[39mexecutemany(sql,val)\n\u001b[0;32m     <a href='vscode-notebook-cell:/c%3A/Users/KING%20PELUMI/Documents/Pelumi%20Code%20Files/Day%2013.ipynb#X12sZmlsZQ%3D%3D?line=9'>10</a>\u001b[0m mydb\u001b[39m.\u001b[39mcommit()\n",
      "\u001b[1;31mTypeError\u001b[0m: 'tuple' object is not callable"
     ]
    }
   ],
   "source": [
    "sql = 'insert into permanentstaffdetails(staffid,staffname,staffgender,staffphoenumber,staffdesignation,staffqualification) values (%s,%s,%s,%s,%s,%s)'\n",
    "val = [(1,'OBED AKPAN','MALE','08125659878','SENIOR MARKETING','DOCTORATE DEGREE'),\n",
    "       (2, 'OKORO LUCY','FEMALE','09125656568','REGIONAL MANAGER','MBA')\n",
    "       (3,'JANET AKINLABI','FEMALE','09085645454','BRANCH MANAGER','MASTERS')\n",
    "       (4,'PAUL LAWAL','MALE','08054585859','HEAD OF MARKETING','DOCTORATE DEGREE'),\n",
    "       (5,'SUSAN PWAJOX','FEMALE','091477477879','SENIOR MARKETING OFFICER2','MASTERS'),\n",
    "       (6,'SAMUEL OKOLO','MALE','08120232020','HEAD OF ICT','PHD'),\n",
    "       (7,'MARY KWAWA','FEMALE','08159990307','CUSTOMER REPRESENTATIVE 1','BSC')]\n",
    "mycursor.executemany(sql,val)\n",
    "mydb.commit()"
   ]
  },
  {
   "cell_type": "code",
   "execution_count": 9,
   "metadata": {},
   "outputs": [
    {
     "ename": "NameError",
     "evalue": "name 'mycursor' is not defined",
     "output_type": "error",
     "traceback": [
      "\u001b[1;31m---------------------------------------------------------------------------\u001b[0m",
      "\u001b[1;31mNameError\u001b[0m                                 Traceback (most recent call last)",
      "\u001b[1;32mc:\\Users\\KING PELUMI\\Documents\\Pelumi Code Files\\Day 13.ipynb Cell 8\u001b[0m in \u001b[0;36m<cell line: 1>\u001b[1;34m()\u001b[0m\n\u001b[1;32m----> <a href='vscode-notebook-cell:/c%3A/Users/KING%20PELUMI/Documents/Pelumi%20Code%20Files/Day%2013.ipynb#X13sZmlsZQ%3D%3D?line=0'>1</a>\u001b[0m mycursor\u001b[39m.\u001b[39mexecute(\u001b[39m'\u001b[39m\u001b[39mselect * from permanentdetails\u001b[39m\u001b[39m'\u001b[39m)\n\u001b[0;32m      <a href='vscode-notebook-cell:/c%3A/Users/KING%20PELUMI/Documents/Pelumi%20Code%20Files/Day%2013.ipynb#X13sZmlsZQ%3D%3D?line=1'>2</a>\u001b[0m \u001b[39mfor\u001b[39;00m x \u001b[39min\u001b[39;00m mycursor:\n\u001b[0;32m      <a href='vscode-notebook-cell:/c%3A/Users/KING%20PELUMI/Documents/Pelumi%20Code%20Files/Day%2013.ipynb#X13sZmlsZQ%3D%3D?line=2'>3</a>\u001b[0m     \u001b[39mprint\u001b[39m(x)\n",
      "\u001b[1;31mNameError\u001b[0m: name 'mycursor' is not defined"
     ]
    }
   ],
   "source": [
    "mycursor.execute('select * from permanentdetails')\n",
    "for x in mycursor:\n",
    "    print(x)"
   ]
  },
  {
   "cell_type": "code",
   "execution_count": 10,
   "metadata": {},
   "outputs": [
    {
     "ename": "NameError",
     "evalue": "name 'mycursor' is not defined",
     "output_type": "error",
     "traceback": [
      "\u001b[1;31m---------------------------------------------------------------------------\u001b[0m",
      "\u001b[1;31mNameError\u001b[0m                                 Traceback (most recent call last)",
      "\u001b[1;32mc:\\Users\\KING PELUMI\\Documents\\Pelumi Code Files\\Day 13.ipynb Cell 9\u001b[0m in \u001b[0;36m<cell line: 1>\u001b[1;34m()\u001b[0m\n\u001b[1;32m----> <a href='vscode-notebook-cell:/c%3A/Users/KING%20PELUMI/Documents/Pelumi%20Code%20Files/Day%2013.ipynb#X14sZmlsZQ%3D%3D?line=0'>1</a>\u001b[0m mycursor\u001b[39m.\u001b[39mexecute(\u001b[39m'\u001b[39m\u001b[39mupdate from permanentstaffdetails set staffqualification = \u001b[39m\u001b[39m\"\u001b[39m\u001b[39mDOCTORATE DEGREE\u001b[39m\u001b[39m\"\u001b[39m\u001b[39m where staffid =5\u001b[39m\u001b[39m'\u001b[39m)\n\u001b[0;32m      <a href='vscode-notebook-cell:/c%3A/Users/KING%20PELUMI/Documents/Pelumi%20Code%20Files/Day%2013.ipynb#X14sZmlsZQ%3D%3D?line=1'>2</a>\u001b[0m \u001b[39mfor\u001b[39;00m x \u001b[39min\u001b[39;00m mycursor:\n\u001b[0;32m      <a href='vscode-notebook-cell:/c%3A/Users/KING%20PELUMI/Documents/Pelumi%20Code%20Files/Day%2013.ipynb#X14sZmlsZQ%3D%3D?line=2'>3</a>\u001b[0m     \u001b[39mprint\u001b[39m(x)\n",
      "\u001b[1;31mNameError\u001b[0m: name 'mycursor' is not defined"
     ]
    }
   ],
   "source": [
    "mycursor.execute('update from permanentstaffdetails set staffqualification = \"DOCTORATE DEGREE\" where staffid =5')\n",
    "for x in mycursor:\n",
    "    print(x)"
   ]
  },
  {
   "cell_type": "code",
   "execution_count": null,
   "metadata": {},
   "outputs": [],
   "source": []
  }
 ],
 "metadata": {
  "kernelspec": {
   "display_name": "Python 3.9.12 ('base')",
   "language": "python",
   "name": "python3"
  },
  "language_info": {
   "codemirror_mode": {
    "name": "ipython",
    "version": 3
   },
   "file_extension": ".py",
   "mimetype": "text/x-python",
   "name": "python",
   "nbconvert_exporter": "python",
   "pygments_lexer": "ipython3",
   "version": "3.9.12"
  },
  "orig_nbformat": 4,
  "vscode": {
   "interpreter": {
    "hash": "8f7e952bfb3c3f066a43c957a96d091bce3c7f364272d0286841978201cc119c"
   }
  }
 },
 "nbformat": 4,
 "nbformat_minor": 2
}
