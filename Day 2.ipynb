{
 "cells": [
  {
   "cell_type": "code",
   "execution_count": 1,
   "metadata": {},
   "outputs": [
    {
     "name": "stdout",
     "output_type": "stream",
     "text": [
      "45.65\n"
     ]
    }
   ],
   "source": [
    "int = (45.65)\n",
    "float = float(int)\n",
    "print(float)"
   ]
  },
  {
   "cell_type": "code",
   "execution_count": 2,
   "metadata": {},
   "outputs": [
    {
     "name": "stdout",
     "output_type": "stream",
     "text": [
      "90 + 25 = 115\n",
      "90 - 25 = 65\n",
      "90 / 25 = 3.6\n",
      "90 * 25 = 2250\n",
      "90 % 25 = 15\n",
      "90 // 25 = 3\n",
      "90 ** 25 = 7178979876918525887702490000000000000000000000000\n"
     ]
    }
   ],
   "source": [
    "num1 = 90\n",
    "num2 = 25\n",
    "print (f'{num1} + {num2} = {num1 + num2}')\n",
    "print (f'{num1} - {num2} = {num1 - num2}')\n",
    "print (f'{num1} / {num2} = {num1 / num2}')\n",
    "print (f'{num1} * {num2} = {num1 * num2}')\n",
    "print (f'{num1} % {num2} = {num1 % num2}')\n",
    "print (f'{num1} // {num2} = {num1 // num2}')\n",
    "print (f'{num1} ** {num2} = {num1 ** num2}')"
   ]
  },
  {
   "cell_type": "code",
   "execution_count": 3,
   "metadata": {},
   "outputs": [
    {
     "name": "stdout",
     "output_type": "stream",
     "text": [
      "90 > 25 = True\n",
      "90 < 25 = False\n",
      "90 >= 25 = True\n",
      "90 <= 25 = False\n",
      "90 == 25 = False\n",
      "90 != 25 = True\n"
     ]
    }
   ],
   "source": [
    "#comparison operators\n",
    "print (f'{num1} > {num2} = {num1 > num2}')\n",
    "print (f'{num1} < {num2} = {num1 < num2}')\n",
    "print (f'{num1} >= {num2} = {num1 >= num2}')\n",
    "print (f'{num1} <= {num2} = {num1 <= num2}')\n",
    "print (f'{num1} == {num2} = {num1 == num2}')\n",
    "print (f'{num1} != {num2} = {num1 != num2}')"
   ]
  },
  {
   "cell_type": "code",
   "execution_count": 4,
   "metadata": {},
   "outputs": [
    {
     "name": "stdout",
     "output_type": "stream",
     "text": [
      "False\n",
      "True\n",
      "False\n"
     ]
    }
   ],
   "source": [
    "#Logical Operators\n",
    "#and, or, not\n",
    "print (num1 > num2 and num1 == num2)\n",
    "print(num1 > num2 or num1 == num2)\n",
    "print(not num1)"
   ]
  },
  {
   "cell_type": "code",
   "execution_count": 5,
   "metadata": {},
   "outputs": [
    {
     "name": "stdout",
     "output_type": "stream",
     "text": [
      "True\n",
      "True\n"
     ]
    }
   ],
   "source": [
    "#Membership operators\n",
    "#in, not in\n",
    "word = 'python'\n",
    "print('p' in word)\n",
    "print('P' not in word)"
   ]
  },
  {
   "cell_type": "code",
   "execution_count": 6,
   "metadata": {},
   "outputs": [
    {
     "name": "stdout",
     "output_type": "stream",
     "text": [
      "False\n",
      "True\n"
     ]
    }
   ],
   "source": [
    "#Identity Operators\n",
    "#is, is not\n",
    "print(num1 is num2)\n",
    "print(num2 is not num1)"
   ]
  },
  {
   "cell_type": "code",
   "execution_count": null,
   "metadata": {},
   "outputs": [],
   "source": []
  }
 ],
 "metadata": {
  "kernelspec": {
   "display_name": "Python 3.9.12 ('base')",
   "language": "python",
   "name": "python3"
  },
  "language_info": {
   "codemirror_mode": {
    "name": "ipython",
    "version": 3
   },
   "file_extension": ".py",
   "mimetype": "text/x-python",
   "name": "python",
   "nbconvert_exporter": "python",
   "pygments_lexer": "ipython3",
   "version": "3.9.12"
  },
  "orig_nbformat": 4,
  "vscode": {
   "interpreter": {
    "hash": "8f7e952bfb3c3f066a43c957a96d091bce3c7f364272d0286841978201cc119c"
   }
  }
 },
 "nbformat": 4,
 "nbformat_minor": 2
}
