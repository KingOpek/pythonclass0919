{
 "cells": [
  {
   "cell_type": "code",
   "execution_count": null,
   "metadata": {},
   "outputs": [],
   "source": []
  },
  {
   "cell_type": "code",
   "execution_count": 1,
   "metadata": {},
   "outputs": [
    {
     "data": {
      "text/plain": [
       "'Mammal'"
      ]
     },
     "execution_count": 1,
     "metadata": {},
     "output_type": "execute_result"
    }
   ],
   "source": [
    "#class with only attribute\n",
    "class animal:\n",
    "    attr1 = 'Mammal'\n",
    "    attr2 = 'dog'\n",
    "obj = animal()\n",
    "obj.attr1"
   ]
  },
  {
   "cell_type": "code",
   "execution_count": 2,
   "metadata": {},
   "outputs": [
    {
     "name": "stdout",
     "output_type": "stream",
     "text": [
      "I belong to the family of Mammal\n"
     ]
    }
   ],
   "source": [
    "class animal:\n",
    "    attr1 = 'Mammal'\n",
    "    attr2 = 'dog'\n",
    "    def family(self):\n",
    "        print(f'I belong to the family of {self.attr1}')\n",
    "    def type(self):\n",
    "        print(f'I am a {self.attr2}')\n",
    "obj = animal()\n",
    "obj.family()"
   ]
  },
  {
   "cell_type": "code",
   "execution_count": 3,
   "metadata": {},
   "outputs": [],
   "source": [
    "# Using class and object write a car game simulation having the following attribute (brand, model, color, year, speed) and the following method (start,gear,accelerate,stop) after create another class to inherit the attribute and method of that class\n",
    "class car_game_simulation:\n",
    "    def __init__(self,brand,model,color,year,speed):\n",
    "        self.brand = brand\n",
    "        self.model = model\n",
    "        self.color = color\n",
    "        self.year = year\n",
    "        self.speed = speed\n",
    "    def start(self):\n",
    "        print(f'{self.brand} {self.MODEL} has started')\n",
    "    def gear(self):\n",
    "        gearoption = input('select a gear:')\n",
    "        if gearoption == '1':\n",
    "            print('gear one selected')\n",
    "        elif gearoption == '2':\n",
    "            print('gear two selected')\n",
    "        elif gearoption == '3':\n",
    "            print('gear three selected')\n",
    "        elif gearoption == '4':\n",
    "            print('gear four selected')\n",
    "        elif gearoption == '5': \n",
    "            print('gear five selected')\n",
    "        if gearoption == 'REV':\n",
    "            print('reversed gear selected')\n",
    "    def accelerate(self,option):\n",
    "        if option == 1:\n",
    "            print('nitro power on')\n",
    "        elif option == 2:\n",
    "            print('nitro power off')\n",
    "        else:\n",
    "            print('invalid acceleration option')\n",
    "    def stop(self):\n",
    "            print(f'boooooooooooooooooooooooooooom {self.brand} {self.model} has stopped Game over')\n",
    "car1 = car_game_simulation('Audi','A6','Black',2019,450)\n",
    "car2 = car_game_simulation('toyota','xl6','cream',2010,400)"
   ]
  },
  {
   "cell_type": "code",
   "execution_count": 4,
   "metadata": {},
   "outputs": [
    {
     "name": "stdout",
     "output_type": "stream",
     "text": [
      "nitro power on\n"
     ]
    }
   ],
   "source": [
    "car1.accelerate(1)"
   ]
  },
  {
   "cell_type": "code",
   "execution_count": 5,
   "metadata": {},
   "outputs": [
    {
     "name": "stdout",
     "output_type": "stream",
     "text": [
      "boooooooooooooooooooooooooooom Audi A6 has stopped Game over\n"
     ]
    }
   ],
   "source": [
    "car1.stop()"
   ]
  },
  {
   "cell_type": "code",
   "execution_count": 6,
   "metadata": {},
   "outputs": [
    {
     "ename": "AttributeError",
     "evalue": "'car_game_simulation' object has no attribute 'MODEL'",
     "output_type": "error",
     "traceback": [
      "\u001b[1;31m---------------------------------------------------------------------------\u001b[0m",
      "\u001b[1;31mAttributeError\u001b[0m                            Traceback (most recent call last)",
      "Cell \u001b[1;32mIn [6], line 1\u001b[0m\n\u001b[1;32m----> 1\u001b[0m car1\u001b[39m.\u001b[39;49mstart()\n",
      "Cell \u001b[1;32mIn [3], line 10\u001b[0m, in \u001b[0;36mcar_game_simulation.start\u001b[1;34m(self)\u001b[0m\n\u001b[0;32m      9\u001b[0m \u001b[39mdef\u001b[39;00m \u001b[39mstart\u001b[39m(\u001b[39mself\u001b[39m):\n\u001b[1;32m---> 10\u001b[0m     \u001b[39mprint\u001b[39m(\u001b[39mf\u001b[39m\u001b[39m'\u001b[39m\u001b[39m{\u001b[39;00m\u001b[39mself\u001b[39m\u001b[39m.\u001b[39mbrand\u001b[39m}\u001b[39;00m\u001b[39m \u001b[39m\u001b[39m{\u001b[39;00m\u001b[39mself\u001b[39m\u001b[39m.\u001b[39mMODEL\u001b[39m}\u001b[39;00m\u001b[39m has started\u001b[39m\u001b[39m'\u001b[39m)\n",
      "\u001b[1;31mAttributeError\u001b[0m: 'car_game_simulation' object has no attribute 'MODEL'"
     ]
    }
   ],
   "source": [
    "car1.start()"
   ]
  },
  {
   "cell_type": "code",
   "execution_count": 7,
   "metadata": {},
   "outputs": [],
   "source": [
    "class newcar(car_game_simulation):\n",
    "    def openroof(self,option):\n",
    "        if option == 1:\n",
    "            print('roof open')\n",
    "        elif option == 2:\n",
    "            print('roof closed')\n",
    "        else:\n",
    "            print('invalid roof option')\n",
    "car3 = newcar('benz','moral','navy blue',2022,850)"
   ]
  },
  {
   "cell_type": "code",
   "execution_count": null,
   "metadata": {},
   "outputs": [],
   "source": []
  }
 ],
 "metadata": {
  "kernelspec": {
   "display_name": "Python 3.10.4 64-bit",
   "language": "python",
   "name": "python3"
  },
  "language_info": {
   "codemirror_mode": {
    "name": "ipython",
    "version": 3
   },
   "file_extension": ".py",
   "mimetype": "text/x-python",
   "name": "python",
   "nbconvert_exporter": "python",
   "pygments_lexer": "ipython3",
   "version": "3.10.4"
  },
  "orig_nbformat": 4,
  "vscode": {
   "interpreter": {
    "hash": "ea7179c008e8f9fad3b9e2bf5245679350e4074392897451870707d6ac4f22a4"
   }
  }
 },
 "nbformat": 4,
 "nbformat_minor": 2
}
