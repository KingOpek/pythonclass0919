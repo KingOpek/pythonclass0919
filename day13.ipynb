{
 "cells": [
  {
   "cell_type": "code",
   "execution_count": 1,
   "metadata": {},
   "outputs": [],
   "source": [
    "import pymysql"
   ]
  },
  {
   "cell_type": "code",
   "execution_count": 2,
   "metadata": {},
   "outputs": [],
   "source": [
    "mydb = pymysql.connect(\n",
    "    host = 'localhost',\n",
    "    user = 'root',\n",
    "    password = 'emmylee95',\n",
    "    database = 'accesswayprimebank'\n",
    ")\n",
    "mycursor = mydb.cursor()"
   ]
  },
  {
   "cell_type": "code",
   "execution_count": 3,
   "metadata": {},
   "outputs": [
    {
     "name": "stdout",
     "output_type": "stream",
     "text": [
      "('staffid', 'int', 'NO', 'PRI', None, 'auto_increment')\n",
      "('staffname', 'varchar(255)', 'NO', '', None, '')\n",
      "('staffgender', 'varchar(10)', 'NO', '', None, '')\n",
      "('staffdesignation', 'varchar(50)', 'NO', '', None, '')\n",
      "('staffqualification', 'varchar(80)', 'NO', '', None, '')\n"
     ]
    }
   ],
   "source": [
    "mycursor.execute('alter table mainstaffdetails add column staffqualification varchar(80) not null')\n",
    "mycursor.execute('show columns from mainstaffdetails')\n",
    "for x in mycursor:\n",
    "    print(x)"
   ]
  },
  {
   "cell_type": "code",
   "execution_count": 3,
   "metadata": {},
   "outputs": [
    {
     "name": "stdout",
     "output_type": "stream",
     "text": [
      "('staffid', 'int', 'NO', 'PRI', None, 'auto_increment')\n",
      "('staffname', 'varchar(255)', 'NO', '', None, '')\n",
      "('staffgender', 'varchar(10)', 'NO', '', None, '')\n",
      "('staffcontact', 'varchar(80)', 'NO', '', None, '')\n",
      "('staffdesignation', 'varchar(150)', 'NO', '', None, '')\n",
      "('staffqualification', 'varchar(80)', 'NO', '', None, '')\n"
     ]
    }
   ],
   "source": [
    "mycursor.execute('alter table mainstaffdetails modify column staffdesignation varchar(150) not null')\n",
    "mycursor.execute('show columns from mainstaffdetails')\n",
    "for x in mycursor:\n",
    "    print(x)"
   ]
  },
  {
   "cell_type": "code",
   "execution_count": 5,
   "metadata": {},
   "outputs": [
    {
     "name": "stdout",
     "output_type": "stream",
     "text": [
      "('staffid', 'int', 'NO', 'PRI', None, 'auto_increment')\n",
      "('staffname', 'varchar(255)', 'NO', '', None, '')\n",
      "('staffgender', 'varchar(10)', 'NO', '', None, '')\n",
      "('staffcontact', 'varchar(45)', 'NO', '', None, '')\n",
      "('staffdesignation', 'varchar(150)', 'NO', '', None, '')\n",
      "('staffqualification', 'varchar(80)', 'NO', '', None, '')\n"
     ]
    }
   ],
   "source": [
    "mycursor.execute('alter table mainstaffdetails add column staffcontact varchar(45) not null after staffgender')\n",
    "mycursor.execute('show columns from mainstaffdetails')\n",
    "for x in mycursor:\n",
    "    print(x)"
   ]
  },
  {
   "cell_type": "code",
   "execution_count": 4,
   "metadata": {},
   "outputs": [
    {
     "name": "stdout",
     "output_type": "stream",
     "text": [
      "('duplicateid', 'varchar(80)', 'NO', '', None, '')\n",
      "('staffid', 'int', 'NO', 'PRI', None, 'auto_increment')\n",
      "('staffname', 'varchar(255)', 'NO', '', None, '')\n",
      "('staffgender', 'varchar(10)', 'NO', '', None, '')\n",
      "('staffcontact', 'varchar(80)', 'NO', '', None, '')\n",
      "('staffdesignation', 'varchar(150)', 'NO', '', None, '')\n",
      "('staffqualification', 'varchar(80)', 'NO', '', None, '')\n"
     ]
    }
   ],
   "source": [
    "mycursor.execute('alter table mainstaffdetails add column duplicateid varchar(80) not null first')\n",
    "mycursor.execute('show columns from mainstaffdetails')\n",
    "for x in mycursor:\n",
    "    print(x)"
   ]
  },
  {
   "cell_type": "code",
   "execution_count": 5,
   "metadata": {},
   "outputs": [
    {
     "name": "stdout",
     "output_type": "stream",
     "text": [
      "('staffid', 'int', 'NO', 'PRI', None, 'auto_increment')\n",
      "('staffname', 'varchar(255)', 'NO', '', None, '')\n",
      "('staffgender', 'varchar(10)', 'NO', '', None, '')\n",
      "('staffcontact', 'varchar(80)', 'NO', '', None, '')\n",
      "('staffdesignation', 'varchar(150)', 'NO', '', None, '')\n",
      "('staffqualification', 'varchar(80)', 'NO', '', None, '')\n"
     ]
    }
   ],
   "source": [
    "mycursor.execute('alter table mainstaffdetails drop column duplicateid')\n",
    "mycursor.execute('show columns from mainstaffdetails')\n",
    "for x in mycursor:\n",
    "    print(x)"
   ]
  },
  {
   "cell_type": "code",
   "execution_count": 6,
   "metadata": {},
   "outputs": [
    {
     "name": "stdout",
     "output_type": "stream",
     "text": [
      "('staffid', 'int', 'NO', 'PRI', None, 'auto_increment')\n",
      "('staffname', 'varchar(255)', 'NO', '', None, '')\n",
      "('staffgender', 'varchar(10)', 'NO', '', None, '')\n",
      "('staffphonenumber', 'varchar(80)', 'NO', '', None, '')\n",
      "('staffdesignation', 'varchar(150)', 'NO', '', None, '')\n",
      "('staffqualification', 'varchar(80)', 'NO', '', None, '')\n"
     ]
    }
   ],
   "source": [
    "mycursor.execute('alter table mainstaffdetails change column staffcontact staffphonenumber varchar(80) not null')\n",
    "mycursor.execute('show columns from mainstaffdetails')\n",
    "for x in mycursor:\n",
    "    print(x)"
   ]
  },
  {
   "cell_type": "code",
   "execution_count": 7,
   "metadata": {},
   "outputs": [
    {
     "name": "stdout",
     "output_type": "stream",
     "text": [
      "('permenantstaffdetails',)\n"
     ]
    }
   ],
   "source": [
    "mycursor.execute('alter table mainstaffdetails rename to Permenantstaffdetails')\n",
    "mycursor.execute('show tables')\n",
    "for x in mycursor:\n",
    "    print(x)"
   ]
  },
  {
   "cell_type": "code",
   "execution_count": 8,
   "metadata": {},
   "outputs": [],
   "source": [
    "sql = 'insert into permenantstaffdetails(staffid,staffname,staffgender,staffphonenumber,staffdesignation,staffqualification) values (%s,%s,%s,%s,%s,%s)'\n",
    "val  = [(1,'OBED AKPAN','MALE','08125659878','SENIOR MARKETING OFFICER1','DOCTORATE DEGREE'),\n",
    "        (2,'OKORO LUCY','FEMALE','09125656568','REGIONAL MANAGER','MBA'),\n",
    "        (3,'JANET AKINLABI','FEMALE','09085645454','BRANCH MANAGER','MASTERS'),\n",
    "        (4,'PAUL LAWAL','MALE','08054585958','HEAD OF MARKETING','DOCTORATE DEGREE'),\n",
    "        (5,'SUSAN PWAJOK','FEMALE','09147477879','SENIOR MARKETING OFFICER2','MASTERS'),\n",
    "        (6,'SAMUEL OKOLO','MALE','08120232020','HEAD OF ICT','PHD'),\n",
    "        (7,'MARY KWAWA','FEMALE','08159999030','CUSTOMER REPRESENTATIVE 1','BSC')]\n",
    "mycursor.executemany(sql,val)\n",
    "mydb.commit()\n"
   ]
  },
  {
   "cell_type": "code",
   "execution_count": 9,
   "metadata": {},
   "outputs": [
    {
     "name": "stdout",
     "output_type": "stream",
     "text": [
      "(1, 'OBED AKPAN', 'MALE', '08125659878', 'SENIOR MARKETING OFFICER1', 'DOCTORATE DEGREE')\n",
      "(2, 'OKORO LUCY', 'FEMALE', '09125656568', 'REGIONAL MANAGER', 'MBA')\n",
      "(3, 'JANET AKINLABI', 'FEMALE', '09085645454', 'BRANCH MANAGER', 'MASTERS')\n",
      "(4, 'PAUL LAWAL', 'MALE', '08054585958', 'HEAD OF MARKETING', 'DOCTORATE DEGREE')\n",
      "(5, 'SUSAN PWAJOK', 'FEMALE', '09147477879', 'SENIOR MARKETING OFFICER2', 'MASTERS')\n",
      "(6, 'SAMUEL OKOLO', 'MALE', '08120232020', 'HEAD OF ICT', 'PHD')\n",
      "(7, 'MARY KWAWA', 'FEMALE', '08159999030', 'CUSTOMER REPRESENTATIVE 1', 'BSC')\n"
     ]
    }
   ],
   "source": [
    "mycursor.execute('select * from permenantstaffdetails')\n",
    "for x in mycursor:\n",
    "    print(x)"
   ]
  },
  {
   "cell_type": "code",
   "execution_count": 10,
   "metadata": {},
   "outputs": [
    {
     "data": {
      "text/plain": [
       "1"
      ]
     },
     "execution_count": 10,
     "metadata": {},
     "output_type": "execute_result"
    }
   ],
   "source": [
    "mycursor.execute('update permenantstaffdetails set staffqualification = \"DOCTORATE DEGREE\" where staffid =5')\n"
   ]
  },
  {
   "cell_type": "code",
   "execution_count": 11,
   "metadata": {},
   "outputs": [
    {
     "name": "stdout",
     "output_type": "stream",
     "text": [
      "(1, 'OBED AKPAN', 'MALE', '08125659878', 'SENIOR MARKETING OFFICER1', 'DOCTORATE DEGREE')\n",
      "(2, 'OKORO LUCY', 'FEMALE', '09125656568', 'REGIONAL MANAGER', 'MBA')\n",
      "(3, 'JANET AKINLABI', 'FEMALE', '09085645454', 'BRANCH MANAGER', 'MASTERS')\n",
      "(4, 'PAUL LAWAL', 'MALE', '08054585958', 'HEAD OF MARKETING', 'DOCTORATE DEGREE')\n",
      "(5, 'SUSAN PWAJOK', 'FEMALE', '09147477879', 'SENIOR MARKETING OFFICER2', 'DOCTORATE DEGREE')\n",
      "(6, 'SAMUEL OKOLO', 'MALE', '08120232020', 'HEAD OF ICT', 'PHD')\n",
      "(7, 'MARY KWAWA', 'FEMALE', '08159999030', 'CUSTOMER REPRESENTATIVE 1', 'BSC')\n"
     ]
    }
   ],
   "source": [
    "mycursor.execute('select * from permenantstaffdetails')\n",
    "for x in mycursor:\n",
    "    print(x)"
   ]
  },
  {
   "cell_type": "code",
   "execution_count": 12,
   "metadata": {},
   "outputs": [
    {
     "name": "stdout",
     "output_type": "stream",
     "text": [
      "(1, 'OBED AKPAN', 'MALE', '08125659878', 'SENIOR MARKETING OFFICER1', 'DOCTORATE DEGREE')\n",
      "(2, 'OKORO LUCY', 'FEMALE', '09125656568', 'REGIONAL MANAGER', 'MBA')\n",
      "(3, 'JANET AKINLABI', 'FEMALE', '09085645454', 'BRANCH MANAGER', 'MASTERS')\n",
      "(4, 'PAUL LAWAL', 'MALE', '08054585958', 'HEAD OF MARKETING', 'DOCTORATE DEGREE')\n",
      "(5, 'SUSAN PWAJOK', 'FEMALE', '09147477879', 'SENIOR MARKETING OFFICER2', 'DOCTORATE DEGREE')\n",
      "(6, 'SAMUEL OKOLO', 'MALE', '08120232020', 'HEAD OF ICT', 'PHD')\n"
     ]
    }
   ],
   "source": [
    "mycursor.execute('delete from permenantstaffdetails where staffid = 7')\n",
    "mycursor.execute('select * from permenantstaffdetails')\n",
    "for x in mycursor:\n",
    "    print(x)"
   ]
  },
  {
   "cell_type": "code",
   "execution_count": null,
   "metadata": {},
   "outputs": [],
   "source": []
  }
 ],
 "metadata": {
  "kernelspec": {
   "display_name": "Python 3.9.12 ('base')",
   "language": "python",
   "name": "python3"
  },
  "language_info": {
   "codemirror_mode": {
    "name": "ipython",
    "version": 3
   },
   "file_extension": ".py",
   "mimetype": "text/x-python",
   "name": "python",
   "nbconvert_exporter": "python",
   "pygments_lexer": "ipython3",
   "version": "3.9.12"
  },
  "orig_nbformat": 4,
  "vscode": {
   "interpreter": {
    "hash": "8f7e952bfb3c3f066a43c957a96d091bce3c7f364272d0286841978201cc119c"
   }
  }
 },
 "nbformat": 4,
 "nbformat_minor": 2
}
